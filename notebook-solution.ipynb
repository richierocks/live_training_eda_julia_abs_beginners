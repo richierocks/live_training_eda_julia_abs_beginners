{
  "nbformat": 4,
  "nbformat_minor": 0,
  "metadata": {
    "colab": {
      "provenance": []
    },
    "kernelspec": {
      "display_name": "Julia 1.8",
      "language": "julia",
      "name": "julia-1.8"
    },
    "language_info": {
      "file_extension": ".jl",
      "mimetype": "application/julia",
      "name": "julia",
      "version": "1.8.2"
    },
    "gpuClass": "standard"
  },
  "cells": [
    {
      "cell_type": "markdown",
      "source": [
        "# Live Training 2023-02-28 Exploratory Data Analysis in Julia for Absolute Beginners - An Analysis of Artisanal French Cheese\n",
        "\n",
        "Today we are going to explore a dataset on french cheese production. We'll cover\n",
        "\n",
        "- Loading Julia packages\n",
        "- Importing data from TAB-delimited files\n",
        "- Counting the number of rows for each category of a categorical variable\n",
        "- Drawing bar plots, histograms, and scatter plots\n",
        "- Filtering rows of a data frame\n",
        "\n",
        "The original dataset: [Dataset on the Life Cycle Assessment of 44 artisanally produced French Protected Designation of Origin (PDO) cheeses](https://entrepot.recherche.data.gouv.fr/dataset.xhtml?persistentId=doi:10.15454/JQLIOX)\n",
        "\n",
        "Journal article describing the dataset: [Adeline Cortesi, Laure Dijoux, Gwenola Yannou-Le Bris, Caroline Pénicaud, Data related to the life cycle assessment of 44 artisanally produced french protected designation of origin (PDO) cheeses, Data in Brief, Volume 43, 2022](https://www.sciencedirect.com/science/article/pii/S235234092200600X)"
      ],
      "metadata": {
        "id": "kgpHRGs5BCis"
      }
    },
    {
      "cell_type": "markdown",
      "source": [
        "## Task 0: Install Julia\n",
        "\n",
        "Colab doesn't natively support Julia, so we'll need to install it."
      ],
      "metadata": {
        "id": "4M_Avuw7CdJ1"
      }
    },
    {
      "cell_type": "markdown",
      "source": [
        "### Instructions\n",
        "\n",
        "Run the cell below, and follow the instructions to change the runtime type."
      ],
      "metadata": {
        "id": "0u_pjQsnCn1j"
      }
    },
    {
      "cell_type": "code",
      "metadata": {
        "id": "PMGwZ7aFJL8Y"
      },
      "source": [
        "# Installation cell\n",
        "%%capture\n",
        "%%shell\n",
        "if ! command -v julia 3>&1 > /dev/null\n",
        "then\n",
        "    wget -q 'https://julialang-s3.julialang.org/bin/linux/x64/1.8/julia-1.8.2-linux-x86_64.tar.gz' \\\n",
        "        -O /tmp/julia.tar.gz\n",
        "    tar -x -f /tmp/julia.tar.gz -C /usr/local --strip-components 1\n",
        "    rm /tmp/julia.tar.gz\n",
        "fi\n",
        "echo 'Julia installed'"
      ],
      "execution_count": null,
      "outputs": []
    },
    {
      "cell_type": "markdown",
      "metadata": {
        "id": "XdMpcQduyaQc"
      },
      "source": [
        "After you run the first cell (the the cell directly above this text), go to Colab's menu bar and select **Edit** and select **Notebook settings** from the drop down. Select *Julia 1.8* in Runtime type. You can change the GPU hardware acceleration to 'None' since we don't need it. \n",
        "\n",
        "<br/>You should see something like this:\n",
        "\n",
        "> ![Colab Img](https://raw.githubusercontent.com/Dsantra92/Julia-on-Colab/master/misc/julia_menu.png)\n",
        "\n",
        "\n",
        "Click on SAVE\n",
        "\n",
        "Run the next cell to see what version of Julia we are running. If it throws an error, you are probably still stuck using Python.\n",
        "\n",
        "\n",
        "\n"
      ]
    },
    {
      "cell_type": "code",
      "metadata": {
        "id": "iIxu4TjlJnBG"
      },
      "source": [
        "VERSION"
      ],
      "execution_count": null,
      "outputs": []
    },
    {
      "cell_type": "markdown",
      "source": [
        "## Task 1: Load the Julia packages\n",
        "\n",
        "Like Python and R, Julia functionality is spread across many packages. Today we'll use\n",
        "\n",
        "- `CSV` for reading the tab-delimited files\n",
        "- `DataFrames` for working with rectangular data\n",
        "- `Plots` for data visualization\n",
        "\n",
        "The code pattern for loading packages is\n",
        "\n",
        "```julia\n",
        "using PackageName\n",
        "```\n",
        "\n",
        "Before we do that, we need to install the packages to Colab. The code for this is provided."
      ],
      "metadata": {
        "id": "J0vXYq1oEUTX"
      }
    },
    {
      "cell_type": "markdown",
      "source": [
        "### Instructions\n",
        "\n",
        "Run the cell to install the Julia packages.\n",
        "\n",
        "Load the `Requests`, `CSV`, `DataFrames`, and `Plots` packages."
      ],
      "metadata": {
        "id": "uW8kEUQtEztp"
      }
    },
    {
      "cell_type": "code",
      "source": [
        "# Install Julia packages\n",
        "run(`julia -e 'using Pkg; pkg\"add CSV DataFrames Plots; precompile;\"'`)"
      ],
      "metadata": {
        "id": "Bz-EcIVskaog"
      },
      "execution_count": null,
      "outputs": []
    },
    {
      "cell_type": "code",
      "source": [
        "# Load the CSV, DataFrames, and Plots packages\n",
        "using CSV\n",
        "using DataFrames\n",
        "using Plots"
      ],
      "metadata": {
        "id": "HMzusAOhE5p9"
      },
      "execution_count": null,
      "outputs": []
    },
    {
      "cell_type": "markdown",
      "source": [
        "## Task 2: Import the characterization file\n",
        "\n",
        "The characterization dataset is in a tab-delimited file. It contains information about each cheese. There are three columns of interest:\n",
        "\n",
        "- The variety of cheese\n",
        "- The animal that produced the milk for the cheese\n",
        "- The technology used to create the cheese\n",
        "\n",
        "The code pattern for importing tab-delimited files is\n",
        "\n",
        "```julia\n",
        "dataset = DataFrame(CSV.File(filename, more_arguments))\n",
        "```\n",
        "\n",
        "- `CSV.File()` reads the file and returns a CSV file object\n",
        "- `DataFrame()` converts the file object to a data frame\n",
        "- It's a tab-delimited file not a comma-delimited file, so we need to set the `delim` argument of `CSV.File()` to `\\t`\n",
        "- The first column of the file is blank, we so need to drop it by setting the `drop` arument to `CSV.File()` to `[1]`. The square bracket indicate that we want an array not a single number.\n",
        "\n",
        "You can get some quick summary statistics of a data frame using\n",
        "\n",
        "```julia\n",
        "describe(dataframe)\n",
        "```"
      ],
      "metadata": {
        "id": "29NWm4E2DQqB"
      }
    },
    {
      "cell_type": "markdown",
      "source": [
        "### Instructions\n",
        "\n",
        "Run the command to download the dataset from Github.\n",
        "\n",
        "Read the `\"data_PDOcheeses_characterization.tab\"` file and convert it to a DataFrame.\n",
        "\n",
        "- It is tab-delimited.\n",
        "- Drop the first column.\n",
        "- Assign to `characterization`.\n",
        "\n",
        "Describe the contents of `characterization`."
      ],
      "metadata": {
        "id": "85-Iy4rmFOi_"
      }
    },
    {
      "cell_type": "code",
      "source": [
        "# Download the dataset from GitHub\n",
        "run(`wget https://raw.githubusercontent.com/richierocks/live_training_eda_julia_abs_beginners/main/data_PDOcheeses_characterization.tab`)"
      ],
      "metadata": {
        "id": "108wC2LumVyr"
      },
      "execution_count": null,
      "outputs": []
    },
    {
      "cell_type": "code",
      "source": [
        "# Read the \"data_PDOcheeses_characterization.tab\" file and convert it to a DataFrame\n",
        "characterization = DataFrame(CSV.File(\"data_PDOcheeses_characterization.tab\", delim=\"\\t\", drop=[1]))"
      ],
      "metadata": {
        "id": "nr_8fG9mEQ74"
      },
      "execution_count": null,
      "outputs": []
    },
    {
      "cell_type": "code",
      "source": [
        "# Describe the contents of characterization\n",
        "describe(characterization) "
      ],
      "metadata": {
        "id": "RyezWh2RJpbX"
      },
      "execution_count": null,
      "outputs": []
    },
    {
      "cell_type": "markdown",
      "source": [
        "## Task 3: Count the cheese by technology\n",
        "\n",
        "A common task for categorical variables is to count the number of times each category occurs to see which ones are most common. Here we'll count the technologies.\n",
        "\n",
        "The code pattern for counting categories is:\n",
        "\n",
        "```julia\n",
        "counts = combine(groupby(dataframe, :columnname), nrow => :n)\n",
        "```\n",
        "\n",
        "- `groupby()` doesn't calculate anything itself, it just tells the next function that calculations should be performs grouped by values in the specified column.\n",
        "- The first argument to `groupby()` is the data frame.\n",
        "- The second argument is the column name (or column names) to group by.\n",
        "- The `:` before the column name makes it into a `Symbol` object. Essentially, it means \"don't treat `columnname` as a variable; use the name directly\".\n",
        "- `combine()` performs the calculation. \n",
        "- The first argument to `combine()` is a dataframe, or in this case, a grouped data frame.\n",
        "- The second argument to `combine()` is a function, in this case `nrow()`.\n",
        "- `nrow()` returns the number of rows in a data frame, or in this case the number of rows in each group of the data frame.\n",
        "- The right arrow, `=>`, creates a `Pair` object. It's usually used for populating dictionary objects but here it means \"rename the new column of counts to `n`\"."
      ],
      "metadata": {
        "id": "oKZvTxIvF1E5"
      }
    },
    {
      "cell_type": "markdown",
      "source": [
        "### Instructions\n",
        "\n",
        "Count the number of times each technology was used in the `characterization` dataset.\n",
        "\n",
        "- Assign to `n_tech`."
      ],
      "metadata": {
        "id": "5v_VDje1JRiK"
      }
    },
    {
      "cell_type": "code",
      "source": [
        "# Count the number of times each technology was used in the characterization dataset\n",
        "n_tech = combine(groupby(characterization, :Technology), nrow => :n)"
      ],
      "metadata": {
        "id": "sff_oAQLJDGy"
      },
      "execution_count": null,
      "outputs": []
    },
    {
      "cell_type": "markdown",
      "source": [
        "## Task 4: Clean the technologies\n",
        "\n",
        "We have two problems with the technologies.\n",
        "\n",
        "- `\"Pressed uncooked cheese \"` has a trailing space.\n",
        "- `\"pâte pressée  non cuite \"` has extra spaces and hasn't been translated from French.\n",
        "\n",
        "Both these technologies should be `\"Pressed uncooked cheese\"`.\n",
        "\n",
        "The code pattern to transform the values in a column is\n",
        "\n",
        "```julia\n",
        "new_dataframe = transform(dataframe, :columnname => ByRow(x -> new_value_of_x))\n",
        "```\n",
        "\n",
        "- `transform()` performs calculations on a column of a data frame.\n",
        "- The first argument to `transform()` is a dataframe.\n",
        "- The second argument to `transform()` is a Pair.\n",
        "- The left hand side of the Pair is the name of the column to transform, as a symbol.\n",
        "- `ByRow()` tells `transform()` that each calculation should be applied to rows one-at-a-time rather than to the whole column.\n",
        "- `->` denotes an anonymous function. That is, it's a concise syntax for a simple, disposable function that we won't bother to name.\n",
        "-  The `x` to the left of `->` is the variable that we'll use as the input to the function. In this case, it's the original value from `columnname`.\n",
        "- `new_value_of_x` will be whatever we calculate for the the new value of `x`.\n",
        "- The name of the new column that is created takes the form `columnname_function`.\n",
        "\n",
        "Other things we'll need here:\n",
        "\n",
        "- The `in` operator checks for values in an array. That is, `x in [\"a\", \"b\", \"c\"]` returns `true` if `x` has the value `\"a\"`, `\"b\"` or `\"c\"`, and returns `false` otherwise.\n",
        "- The ternary operator is a concise syntax or if-else. `condition ? yes : no` returns `yes` if the condition is `true` and `no` if the condition is `false`.\n",
        "\n",
        "Overall we need \n",
        "\n",
        "```julia\n",
        "new_dataframe = transform(dataframe, :columnname => ByRow(x -> x in [bad, values] ? new_x : x))\n",
        "```"
      ],
      "metadata": {
        "id": "IQpFLDAXKFk_"
      }
    },
    {
      "cell_type": "markdown",
      "source": [
        "### Instructions\n",
        "\n",
        "Transform the `Technology` column of `characterization` as follows:\n",
        "\n",
        "- If the technology is `\"Pressed uncooked cheese \"` or `\"pâte pressée  non cuite \"` then return `\"Pressed uncooked cheese\"`.\n",
        "- Otherwise return the existing value of `Technology`."
      ],
      "metadata": {
        "id": "lpQVytJMNBU1"
      }
    },
    {
      "cell_type": "code",
      "source": [
        "# Transform the Technology column of characterization\n",
        "clean_characterization = transform(\n",
        "  characterization, \n",
        "  :Technology => ByRow(tech -> tech in [\"pâte pressée  non cuite \", \"Pressed uncooked cheese \"] ? \"Pressed uncooked cheese\" : tech)\n",
        ")"
      ],
      "metadata": {
        "id": "F_Zg6tRvM__T"
      },
      "execution_count": null,
      "outputs": []
    },
    {
      "cell_type": "markdown",
      "source": [
        "## Your turn: Calculate the counts again on the cleaned dataset\n",
        "\n",
        "Now that the `Technology` column is cleaned up, we can get correct counts. Run the code to count the technologies again.\n",
        "\n",
        "Hint: The transformation code created a new column named `Technology_function`. Count those values not the originals!"
      ],
      "metadata": {
        "id": "0umXT4gbO9N1"
      }
    },
    {
      "cell_type": "markdown",
      "source": [
        "### Instructions\n",
        "\n",
        "Count the number of times each technology was used in the `clean_characterization` dataset.\n",
        "\n",
        "- Use the `Technology_function` column.\n",
        "- Assign to `n_tech` again."
      ],
      "metadata": {
        "id": "TFN6GgzlPmFp"
      }
    },
    {
      "cell_type": "code",
      "source": [
        "# Count the number of times each technology was used in the clean_characterization dataset\n",
        "n_tech = combine(groupby(clean_characterization, :Technology_function), nrow => :n)"
      ],
      "metadata": {
        "id": "3g_UMNSlPyxN"
      },
      "execution_count": null,
      "outputs": []
    },
    {
      "cell_type": "markdown",
      "source": [
        "## Task 5: Sort the counts from largest to smallest\n",
        "\n",
        "The bar plot was hard to read because the bars in the plot weren't in order from largest to smallest. We need to reorder the row of the data frame by descending `n`.\n",
        "\n",
        "The code pattern for this is:\n",
        "\n",
        "```julia\n",
        "sort(dataframe, :columnname, other_arguments)\n",
        "```\n",
        "\n",
        "- `sort()` sorts the rows of a data frame.\n",
        "- `:columnname` tell `sort()` which column to sort by.\n",
        "- By default, `sort()` returns rows from the smallest value of `:columnname` to the largest. For our purposes we want largest to smallest, so we need to reverse this by setting `rev` to `true`."
      ],
      "metadata": {
        "id": "Yga5bhs6cwgR"
      }
    },
    {
      "cell_type": "markdown",
      "source": [
        "### Instructions\n",
        "\n",
        "Sort the rows of `n_tech` in descending order of `n`.\n",
        "\n",
        "- Assign to `n_tech_sorted`."
      ],
      "metadata": {
        "id": "ttCkIERcdxJE"
      }
    },
    {
      "cell_type": "code",
      "source": [
        "# Sort the rows of n_tech in descending order of n\n",
        "n_tech_sorted = sort(n_tech, :n, rev=true)"
      ],
      "metadata": {
        "id": "c34-tD5Geomj"
      },
      "execution_count": null,
      "outputs": []
    },
    {
      "cell_type": "markdown",
      "source": [
        "## Task 6: Draw a bar plot of technology counts\n",
        "\n",
        "A common way to visualize counts of categories is with a bar plot.\n",
        "\n",
        "The code pattern for drawing bar plots is\n",
        "\n",
        "```julia\n",
        "bar(categorical_array, count_array, other_arguments)\n",
        "```\n",
        "\n",
        "- `bar()` draws the bar plot\n",
        "- The first argument is the names of the categories.\n",
        "- The second argument is the counts.\n",
        "- The category names are quite long. To prevent them overlapping, rotate the lables by setting `xrotation` to `10`.\n",
        "- We can also give a more informative y-axis label by setting `ylabel` to `\"Count\"`.\n",
        "\n",
        "There are many ways to access the columns in a data frame. The easiest way is to use `dataframe.columnname`.\n",
        "\n",
        "Overall, the code we want to write looks like\n",
        "\n",
        "```julia\n",
        "bar(dataframe.categorycolumn, dataframe.countcolumn, xrotation=n, ylabel=\"Count\")\n",
        "```"
      ],
      "metadata": {
        "id": "b-Bjv7mLO0VL"
      }
    },
    {
      "cell_type": "markdown",
      "source": [
        "### Instructions\n",
        "\n",
        "Draw a bar plot of technology counts (`n`) vs. technologies (`Technology_function`).\n",
        "\n",
        "- Rotate the x-axis category labels by `10` degrees.\n",
        "- Set the y-axis label to `\"Count\"`."
      ],
      "metadata": {
        "id": "Izda4UtjQ7PL"
      }
    },
    {
      "cell_type": "code",
      "source": [
        "# Draw a bar plot of technology counts vs. technologies\n",
        "bar(n_tech_sorted.Technology_function, n_tech_sorted.n, xrotation=10, ylabel=\"Count\")"
      ],
      "metadata": {
        "id": "nTDyWiSsQ6eh"
      },
      "execution_count": null,
      "outputs": []
    },
    {
      "cell_type": "markdown",
      "source": [
        "## Task 7: Import the coproducts file\n",
        "\n",
        "Coproducts are other useful things that are created at the same time as the thing you were trying to create. When you make cheese, you also make whey and cream.\n",
        "\n",
        "The coproducts dataset contains three columns of interest.\n",
        "\n",
        "- The variety of cheese\n",
        "- The quantity of whey produced in kg per kg of cheese produced\n",
        "- The quantity of cream produced in kg per kg of cheese produced\n",
        "\n",
        "We use the same code pattern as before, with one change. The first line of the coproducts file contains information about the dataset, but doesn't contain any data. The column headers are on row 2, so we need to set `header` to `2`.\n",
        "\n",
        "Just as in the characterization file, the first column is blank, so we need to drop it."
      ],
      "metadata": {
        "id": "qhdzS3fERiuu"
      }
    },
    {
      "cell_type": "markdown",
      "source": [
        "### Instructions\n",
        "\n",
        "Run the cell to download the dataset from GitHub.\n",
        "\n",
        "Read the \"data_PDOcheeses_coproducts.tab\" file and convert it to a DataFrame.\n",
        "\n",
        "- It is tab-delimited.\n",
        "- The columns headers are on row `2`.\n",
        "- Drop the first column.\n",
        "- Assign to `coproducts`.\n",
        "\n",
        "Describe the contents of `coproducts`."
      ],
      "metadata": {
        "id": "YWQRCLjHTBQ3"
      }
    },
    {
      "cell_type": "code",
      "source": [
        "# Download the dataset from GitHub\n",
        "run(`wget https://raw.githubusercontent.com/richierocks/live_training_eda_julia_abs_beginners/main/data_PDOcheeses_coproducts.tab`)"
      ],
      "metadata": {
        "id": "t0GfXbM0oi-c"
      },
      "execution_count": null,
      "outputs": []
    },
    {
      "cell_type": "code",
      "source": [
        "# Read the \"data_PDOcheeses_coproducts.tab\" file and convert it to a DataFrame\n",
        "coproducts = DataFrame(CSV.File(\"data_PDOcheeses_coproducts.tab\", delim=\"\\t\", header=2, drop=[1]))"
      ],
      "metadata": {
        "id": "XV4y3OsVTSay"
      },
      "execution_count": null,
      "outputs": []
    },
    {
      "cell_type": "code",
      "source": [
        "# Describe the contents of coproducts\n",
        "describe(coproducts)"
      ],
      "metadata": {
        "id": "YqX5BvZyTbqk"
      },
      "execution_count": null,
      "outputs": []
    },
    {
      "cell_type": "markdown",
      "source": [
        "## Task 8: Rename the columns\n",
        "\n",
        "The first column in `coproducts` doesn't have a name (since the cell was empty in the data file).\n",
        "\n",
        "The other column names (like `\"Cream produced (kg)\"`) aren't standard Julia variable names. This is OK, but makes them slightly harder to work with since syntax like `dataframe.columname` doesn't work.\n",
        "\n",
        "We need to rename the columns. The code pattern for this is:\n",
        "\n",
        "```julia\n",
        "rename!(dataframe, [\"existing column 1\" => \"NewColumn1\", \"existing column 2\" => \"NewColumn1\"])\n",
        "```\n",
        "\n",
        "- `rename()` renames the columns of a dataframe.\n",
        "- `rename!()` renames the columns of a dataframe and overwrites that data frame. That is, `rename!(dataframe)` is shorthand for `dataframe = rename(dataframe)`. In general, functions with a name ending in an exclamation mark overwrite the data argument.\n",
        "\n"
      ],
      "metadata": {
        "id": "ecEm-mvXTmBs"
      }
    },
    {
      "cell_type": "markdown",
      "source": [
        "### Instructions\n",
        "\n",
        "Rename the columns in `coproducts` as follows.\n",
        "\n",
        "- Rename `\"Column2\"` to `\"Variety\"`.\n",
        "- Rename `\"Cream produced (kg)\"` to `\"CreamProducedKg\"`.\n",
        "- Rename `\"Whey produced (kg)\"` to `\"WheyProducedKg\"`.\n"
      ],
      "metadata": {
        "id": "DU3NHaM3U8vu"
      }
    },
    {
      "cell_type": "code",
      "source": [
        "# Rename the columns in coproducts\n",
        "rename!(coproducts, [\"Column2\" => \"Variety\", \"Cream produced (kg)\" => \"CreamProducedKg\", \"Whey produced (kg)\" => \"WheyProducedKg\"])"
      ],
      "metadata": {
        "id": "NQBclCl1U8FU"
      },
      "execution_count": null,
      "outputs": []
    },
    {
      "cell_type": "markdown",
      "source": [
        "## Task 9: Draw a histogram of cream production\n",
        "\n",
        "A common way of visualizing numeric variables is to draw a histogram of their distribution.\n",
        "\n",
        "The code pattern to draw a histogram is:\n",
        "\n",
        "```julia\n",
        "histogram(numeric_array, other_arguments)\n",
        "```\n",
        "\n",
        "- `histogram()` draws the histogram.\n",
        "- You can change the number of bins with the `bins` argument, but Julia is quite good at guessing at sensible default.\n",
        "- We also want to change the x- and y- axis labels with `xlabel` and `ylabel`."
      ],
      "metadata": {
        "id": "vY8JLW3IV1L3"
      }
    },
    {
      "cell_type": "markdown",
      "source": [
        "### Instructions\n",
        "\n",
        "Draw a histogram of the `CreamProducedKg` variable in `coproducts`.\n",
        "\n",
        "- Set the x-axis label to `\"Cream produced (kg)\"`.\n",
        "- Set the y-axis label to `\"Count\"`.\n"
      ],
      "metadata": {
        "id": "7qsOVdepXXRo"
      }
    },
    {
      "cell_type": "code",
      "source": [
        "# Draw a histogram of the CreamProducedKg variable in coproducts\n",
        "histogram(coproducts.CreamProducedKg, xlabel=\"Cream produced (kg)\", ylabel=\"Count\")"
      ],
      "metadata": {
        "id": "p0fKazvJXWfw"
      },
      "execution_count": null,
      "outputs": []
    },
    {
      "cell_type": "markdown",
      "source": [
        "## Task 10: Filter for cream producing cheeses\n",
        "\n",
        "The histogram showed that the amount of cream produced was zero for many cheeses. If we want to analyze cream production it might be helpful to only look at cheeses where the cream produced is greater than zero.\n",
        "\n",
        "The code pattern for filtering rows of a data frame is:\n",
        "\n",
        "```julia\n",
        "filter(row -> condition, dataframe)\n",
        "```\n",
        "\n",
        "- `filter()` filters the rows of a data frame.\n",
        "- Notice that this time, the data frame is the second argument.\n",
        "- The first argument to `filter()` is a function.\n",
        "- Again we create an anonymous function using `->`.\n",
        "- Unlike `transform()`, we don't need to use `ByRow()` &ndash; the calculations always happen by row.\n",
        "- The input to the function is a row of the data frame, so `row` is a common variable for the input to the function.\n",
        "- The `condition` must resolve to `true` or `false` for each row. In this case we want a condition of the form `row.columnname > n`."
      ],
      "metadata": {
        "id": "cM2Keu1UX5Ns"
      }
    },
    {
      "cell_type": "markdown",
      "source": [
        "### Instructions\n",
        "\n",
        "Filter `coproducts` for rows where `CreamProducedKg` is greater than `0`."
      ],
      "metadata": {
        "id": "HKvZLrWkZeXc"
      }
    },
    {
      "cell_type": "code",
      "source": [
        "# Filter coproducts for rows where CreamProducedKg is greater than 0\n",
        "cream_producing = filter(row -> row.CreamProducedKg > 0, coproducts)"
      ],
      "metadata": {
        "id": "seZ7-ZnaZdlE"
      },
      "execution_count": null,
      "outputs": []
    },
    {
      "cell_type": "markdown",
      "source": [
        "## Your turn: Draw a histogram of cream-producing cheeses\n",
        "\n",
        "Now that we have a dataset of cream-producing cheeses, we can plot the distribution of cream production again without the zeroes."
      ],
      "metadata": {
        "id": "ZFam_cvRZ_Hj"
      }
    },
    {
      "cell_type": "markdown",
      "source": [
        "### Instructions\n",
        "\n",
        "Draw a histogram of the `CreamProducedKg` variable in `cream_producing`.\n",
        "\n",
        "- Set the number of bins to `6`.\n",
        "- Set the x-axis label to `\"Cream produced (kg)\"`.\n",
        "- Set the y-axis label to `\"Count\"`."
      ],
      "metadata": {
        "id": "lVDK_t6TaMHq"
      }
    },
    {
      "cell_type": "code",
      "source": [
        "# Draw a histogram of the CreamProducedKg variable in cream_producing\n",
        "histogram(cream_producing.CreamProducedKg, bins=6, xlabel=\"Cream produced (kg)\", ylabel=\"Count\")"
      ],
      "metadata": {
        "id": "1ZvT0obqaLfM"
      },
      "execution_count": null,
      "outputs": []
    },
    {
      "cell_type": "markdown",
      "source": [
        "## Your turn: Draw a histogram of whey production\n",
        "\n",
        "It's also worth taking a look at whey production in cheeses."
      ],
      "metadata": {
        "id": "D4tLCSa7abU-"
      }
    },
    {
      "cell_type": "markdown",
      "source": [
        "### Instructions\n",
        "\n",
        "Draw a histogram of the `WheyProducedKg` variable in `coproducts`.\n",
        "\n",
        "- Set the number of bins to `8`.\n",
        "- Set the x-axis label to `\"Whey produced (kg)\"`.\n",
        "- Set the y-axis label to `\"Count\"`."
      ],
      "metadata": {
        "id": "8ZQBdnERapHj"
      }
    },
    {
      "cell_type": "code",
      "source": [
        "# Draw a histogram of the WheyProducedKg variable in coproducts\n",
        "histogram(coproducts.WheyProducedKg, bins=8, xlabel=\"Whey produced (kg)\", ylabel=\"Count\")"
      ],
      "metadata": {
        "id": "fr0hZQa9akmP"
      },
      "execution_count": null,
      "outputs": []
    },
    {
      "cell_type": "markdown",
      "source": [
        "## Task 11: Draw a scatter plot of whey produced vs. cream produced\n",
        "\n",
        "Two compare the relationship between two numeric variables, we typically use a scatter plot.\n",
        "\n",
        "The code pattern for creating a scatter plot is\n",
        "\n",
        "```julia\n",
        "scatter(x_array, y_array, other_arguments)\n",
        "```\n",
        "\n",
        "- `scatter()` draws the scatter plot.\n",
        "- We also want to set the x- and y-axis labels using `xlabel` and `ylabel` as before."
      ],
      "metadata": {
        "id": "yIqXL-KRa9MI"
      }
    },
    {
      "cell_type": "markdown",
      "source": [
        "### Instructions\n",
        "\n",
        "Draw a scatter plot of whey production (y-axis) vs. cream production (x-axis).\n",
        "\n",
        "- Set the x-axis label to \"Whey produced (kg)\".\n",
        "- Set the y-axis label to \"Cream produced (kg)\"."
      ],
      "metadata": {
        "id": "lfWHuMOZbqlV"
      }
    },
    {
      "cell_type": "code",
      "source": [
        "#  Draw a scatter plot of whey production vs. cream production\n",
        "scatter(coproducts.CreamProducedKg, coproducts.WheyProducedKg, xlabel=\"Whey produced (kg)\", ylabel=\"Cream produced (kg)\")"
      ],
      "metadata": {
        "id": "t7S5ye3mbn2o"
      },
      "execution_count": null,
      "outputs": []
    }
  ]
}
