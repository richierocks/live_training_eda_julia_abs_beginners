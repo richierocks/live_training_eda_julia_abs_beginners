{
  "nbformat": 4,
  "nbformat_minor": 0,
  "metadata": {
    "colab": {
      "provenance": []
    },
    "kernelspec": {
      "display_name": "Julia 1.8",
      "language": "julia",
      "name": "julia-1.8"
    },
    "language_info": {
      "file_extension": ".jl",
      "mimetype": "application/julia",
      "name": "julia",
      "version": "1.8.2"
    },
    "gpuClass": "standard"
  },
  "cells": [
    {
      "cell_type": "markdown",
      "source": [
        "# Live Training 2023-02-28 Exploratory Data Analysis in Julia for Absolute Beginners - An Analysis of Artisanal French Cheese\n",
        "\n",
        "Today we are going to explore a dataset on french cheese production. We'll cover\n",
        "\n",
        "- Loading Julia packages\n",
        "- Importing data from TAB-delimited files\n",
        "- Coutning the number of rows for each category of a categorical variable\n",
        "- Drawing bar plots, histograms, and scatter plots\n",
        "- Filtering rows of a data frame\n",
        "- Fitting linear regression models\n",
        "\n",
        "The original dataset: [Dataset on the Life Cycle Assessment of 44 artisanally produced French Protected Designation of Origin (PDO) cheeses](https://entrepot.recherche.data.gouv.fr/dataset.xhtml?persistentId=doi:10.15454/JQLIOX)\n",
        "\n",
        "Jounral article describing the dataset: [Adeline Cortesi, Laure Dijoux, Gwenola Yannou-Le Bris, Caroline Pénicaud, Data related to the life cycle assessment of 44 artisanally produced french protected designation of origin (PDO) cheeses, Data in Brief, Volume 43, 2022](https://www.sciencedirect.com/science/article/pii/S235234092200600X)"
      ],
      "metadata": {
        "id": "kgpHRGs5BCis"
      }
    },
    {
      "cell_type": "code",
      "metadata": {
        "id": "PMGwZ7aFJL8Y"
      },
      "source": [
        "# Installation cell\n",
        "%%capture\n",
        "%%shell\n",
        "if ! command -v julia 3>&1 > /dev/null\n",
        "then\n",
        "    wget -q 'https://julialang-s3.julialang.org/bin/linux/x64/1.8/julia-1.8.2-linux-x86_64.tar.gz' \\\n",
        "        -O /tmp/julia.tar.gz\n",
        "    tar -x -f /tmp/julia.tar.gz -C /usr/local --strip-components 1\n",
        "    rm /tmp/julia.tar.gz\n",
        "fi\n",
        "julia -e 'using Pkg; pkg\"add IJulia PlotlyLight DataFrames CSV Chain FreqTables CategoricalArrays; precompile;\"'\n",
        "echo 'Done'"
      ],
      "execution_count": 1,
      "outputs": []
    },
    {
      "cell_type": "markdown",
      "metadata": {
        "id": "XdMpcQduyaQc"
      },
      "source": [
        "After you run the first cell (the the cell directly above this text), go to Colab's menu bar and select **Edit** and select **Notebook settings** from the drop down. Select *Julia 1.8* in Runtime type. You can also select your prefered harwdware acceleration (defaults to GPU). \n",
        "\n",
        "<br/>You should see something like this:\n",
        "\n",
        "> ![Colab Img](https://raw.githubusercontent.com/Dsantra92/Julia-on-Colab/master/misc/julia_menu.png)\n",
        "\n",
        "<br/>Click on SAVE\n",
        "<br/>**We are ready to get going**\n",
        "\n",
        "\n",
        "\n"
      ]
    },
    {
      "cell_type": "code",
      "metadata": {
        "id": "iIxu4TjlJnBG",
        "colab": {
          "base_uri": "https://localhost:8080/"
        },
        "outputId": "cd4fc737-a77f-44c9-b53a-a35e7a218fc1"
      },
      "source": [
        "VERSION"
      ],
      "execution_count": 1,
      "outputs": [
        {
          "output_type": "execute_result",
          "data": {
            "text/plain": [
              "v\"1.8.2\""
            ]
          },
          "metadata": {},
          "execution_count": 1
        }
      ]
    }
  ]
}